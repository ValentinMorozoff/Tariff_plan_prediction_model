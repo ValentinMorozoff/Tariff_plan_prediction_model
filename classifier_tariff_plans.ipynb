{
 "cells": [
  {
   "cell_type": "markdown",
   "metadata": {},
   "source": [
    "# Рекомендация тарифов"
   ]
  },
  {
   "cell_type": "markdown",
   "metadata": {},
   "source": [
    "На исследование представлены данные о поведении клиентов и выбранные тарифные планы. Необходимо построить модель для задачи классификации, которая выберет подходящий тариф.\n",
    "\n",
    "Требуется построить модель с максимально большим значением accuracy. Долю правильных ответов должна быть не ниже 0.75. "
   ]
  },
  {
   "cell_type": "code",
   "execution_count": 112,
   "metadata": {},
   "outputs": [],
   "source": [
    "# импорт необходимых для эксперимета библиотек\n",
    "import pandas as pd\n",
    "from sklearn.model_selection import train_test_split\n",
    "from sklearn.tree import DecisionTreeClassifier\n",
    "from sklearn.ensemble import RandomForestClassifier\n",
    "from sklearn.linear_model import LogisticRegression\n",
    "from sklearn.metrics import accuracy_score"
   ]
  },
  {
   "cell_type": "markdown",
   "metadata": {},
   "source": [
    "## Чтение файла"
   ]
  },
  {
   "cell_type": "code",
   "execution_count": 113,
   "metadata": {},
   "outputs": [
    {
     "data": {
      "text/html": [
       "<div>\n",
       "<style scoped>\n",
       "    .dataframe tbody tr th:only-of-type {\n",
       "        vertical-align: middle;\n",
       "    }\n",
       "\n",
       "    .dataframe tbody tr th {\n",
       "        vertical-align: top;\n",
       "    }\n",
       "\n",
       "    .dataframe thead th {\n",
       "        text-align: right;\n",
       "    }\n",
       "</style>\n",
       "<table border=\"1\" class=\"dataframe\">\n",
       "  <thead>\n",
       "    <tr style=\"text-align: right;\">\n",
       "      <th></th>\n",
       "      <th>calls</th>\n",
       "      <th>minutes</th>\n",
       "      <th>messages</th>\n",
       "      <th>mb_used</th>\n",
       "      <th>is_ultra</th>\n",
       "    </tr>\n",
       "  </thead>\n",
       "  <tbody>\n",
       "    <tr>\n",
       "      <th>0</th>\n",
       "      <td>40.0</td>\n",
       "      <td>311.90</td>\n",
       "      <td>83.0</td>\n",
       "      <td>19915.42</td>\n",
       "      <td>0</td>\n",
       "    </tr>\n",
       "    <tr>\n",
       "      <th>1</th>\n",
       "      <td>85.0</td>\n",
       "      <td>516.75</td>\n",
       "      <td>56.0</td>\n",
       "      <td>22696.96</td>\n",
       "      <td>0</td>\n",
       "    </tr>\n",
       "    <tr>\n",
       "      <th>2</th>\n",
       "      <td>77.0</td>\n",
       "      <td>467.66</td>\n",
       "      <td>86.0</td>\n",
       "      <td>21060.45</td>\n",
       "      <td>0</td>\n",
       "    </tr>\n",
       "    <tr>\n",
       "      <th>3</th>\n",
       "      <td>106.0</td>\n",
       "      <td>745.53</td>\n",
       "      <td>81.0</td>\n",
       "      <td>8437.39</td>\n",
       "      <td>1</td>\n",
       "    </tr>\n",
       "    <tr>\n",
       "      <th>4</th>\n",
       "      <td>66.0</td>\n",
       "      <td>418.74</td>\n",
       "      <td>1.0</td>\n",
       "      <td>14502.75</td>\n",
       "      <td>0</td>\n",
       "    </tr>\n",
       "  </tbody>\n",
       "</table>\n",
       "</div>"
      ],
      "text/plain": [
       "   calls  minutes  messages   mb_used  is_ultra\n",
       "0   40.0   311.90      83.0  19915.42         0\n",
       "1   85.0   516.75      56.0  22696.96         0\n",
       "2   77.0   467.66      86.0  21060.45         0\n",
       "3  106.0   745.53      81.0   8437.39         1\n",
       "4   66.0   418.74       1.0  14502.75         0"
      ]
     },
     "execution_count": 113,
     "metadata": {},
     "output_type": "execute_result"
    }
   ],
   "source": [
    "# чтение представленное на эксперимент файла\n",
    "df = pd.read_csv('/datasets/users_behavior.csv')\n",
    "df.head()"
   ]
  },
  {
   "cell_type": "markdown",
   "metadata": {},
   "source": [
    "Файл прочитался корректно.\n",
    "\n",
    "**Описание данных:**\n",
    "\n",
    "- сalls — количество звонков,\n",
    "- minutes — суммарная длительность звонков в минутах,\n",
    "- messages — количество sms-сообщений,\n",
    "- mb_used — израсходованный интернет-трафик в Мб,\n",
    "- is_ultra — каким тарифом пользовался в течение месяца («Ультра» — 1, «Смарт» — 0)."
   ]
  },
  {
   "cell_type": "code",
   "execution_count": 114,
   "metadata": {},
   "outputs": [
    {
     "data": {
      "text/plain": [
       "(3214, 5)"
      ]
     },
     "execution_count": 114,
     "metadata": {},
     "output_type": "execute_result"
    }
   ],
   "source": [
    "# размеры матрицы\n",
    "df.shape"
   ]
  },
  {
   "cell_type": "markdown",
   "metadata": {},
   "source": [
    "В данных предствлено 3214 объекта, по объектам имеется 4 признака и целевая переменная."
   ]
  },
  {
   "cell_type": "code",
   "execution_count": 115,
   "metadata": {},
   "outputs": [
    {
     "data": {
      "text/plain": [
       "0    0.693528\n",
       "1    0.306472\n",
       "Name: is_ultra, dtype: float64"
      ]
     },
     "execution_count": 115,
     "metadata": {},
     "output_type": "execute_result"
    }
   ],
   "source": [
    "# пропорции целевой переменной\n",
    "df['is_ultra'].value_counts(normalize=True)"
   ]
  },
  {
   "cell_type": "markdown",
   "metadata": {},
   "source": [
    "Целевая переменная - тарифный план, представлена в пропорции 0.7 - тариф \"Смарт\", 0.3 - тариф \"Ультра\".\n",
    "\n",
    "Таким образом, целевая переменная несбалансирована."
   ]
  },
  {
   "cell_type": "code",
   "execution_count": 116,
   "metadata": {},
   "outputs": [
    {
     "name": "stdout",
     "output_type": "stream",
     "text": [
      "<class 'pandas.core.frame.DataFrame'>\n",
      "RangeIndex: 3214 entries, 0 to 3213\n",
      "Data columns (total 5 columns):\n",
      " #   Column    Non-Null Count  Dtype  \n",
      "---  ------    --------------  -----  \n",
      " 0   calls     3214 non-null   float64\n",
      " 1   minutes   3214 non-null   float64\n",
      " 2   messages  3214 non-null   float64\n",
      " 3   mb_used   3214 non-null   float64\n",
      " 4   is_ultra  3214 non-null   int64  \n",
      "dtypes: float64(4), int64(1)\n",
      "memory usage: 125.7 KB\n"
     ]
    },
    {
     "data": {
      "text/plain": [
       "0"
      ]
     },
     "execution_count": 116,
     "metadata": {},
     "output_type": "execute_result"
    }
   ],
   "source": [
    "# общие сведения о данных\n",
    "df.info()\n",
    "\n",
    "# сведения о дубликатах\n",
    "df.duplicated().sum()"
   ]
  },
  {
   "cell_type": "markdown",
   "metadata": {},
   "source": [
    "Пропущенные значения, явные(полные) дубликаты - отсутсвуют. Данные представлены целочисленными типами и типами с плавающей точкой."
   ]
  },
  {
   "cell_type": "markdown",
   "metadata": {},
   "source": [
    "## Разделение выборок на обучающую, валидационную и тестовую"
   ]
  },
  {
   "cell_type": "code",
   "execution_count": 117,
   "metadata": {},
   "outputs": [],
   "source": [
    "# признаки объектов\n",
    "X = df.drop(['is_ultra'], axis=1)\n",
    "\n",
    "# целевая переменная\n",
    "y = df['is_ultra']\n",
    "\n",
    "# разделение данных на обучающую и тестовую выборки\n",
    "X_train, X_test, y_train, y_test = train_test_split(X, y, \n",
    "                                                      test_size=.4, \n",
    "                                                      stratify=y,      # целевая переменная несбалансирована,\n",
    "                                                                       # требуется стратификация\n",
    "                                                      random_state=42)\n",
    "\n",
    "# разделение данных на тестовую валидационную выборки\n",
    "X_test, X_valid, y_test, y_valid = train_test_split(X, y, \n",
    "                                                      test_size=.5, \n",
    "                                                      stratify=y,      # целевая переменная несбалансирована,\n",
    "                                                                       # требуется стратификация\n",
    "                                                      random_state=42)"
   ]
  },
  {
   "cell_type": "markdown",
   "metadata": {},
   "source": [
    "## Исследование моделей\n",
    "### Логистическая регрессия"
   ]
  },
  {
   "cell_type": "code",
   "execution_count": 118,
   "metadata": {},
   "outputs": [
    {
     "data": {
      "text/html": [
       "<div>\n",
       "<style scoped>\n",
       "    .dataframe tbody tr th:only-of-type {\n",
       "        vertical-align: middle;\n",
       "    }\n",
       "\n",
       "    .dataframe tbody tr th {\n",
       "        vertical-align: top;\n",
       "    }\n",
       "\n",
       "    .dataframe thead th {\n",
       "        text-align: right;\n",
       "    }\n",
       "</style>\n",
       "<table border=\"1\" class=\"dataframe\">\n",
       "  <thead>\n",
       "    <tr style=\"text-align: right;\">\n",
       "      <th></th>\n",
       "      <th>calls</th>\n",
       "      <th>minutes</th>\n",
       "      <th>messages</th>\n",
       "      <th>mb_used</th>\n",
       "    </tr>\n",
       "  </thead>\n",
       "  <tbody>\n",
       "    <tr>\n",
       "      <th>calls</th>\n",
       "      <td>1.000000</td>\n",
       "      <td>0.982083</td>\n",
       "      <td>0.177385</td>\n",
       "      <td>0.286442</td>\n",
       "    </tr>\n",
       "    <tr>\n",
       "      <th>minutes</th>\n",
       "      <td>0.982083</td>\n",
       "      <td>1.000000</td>\n",
       "      <td>0.173110</td>\n",
       "      <td>0.280967</td>\n",
       "    </tr>\n",
       "    <tr>\n",
       "      <th>messages</th>\n",
       "      <td>0.177385</td>\n",
       "      <td>0.173110</td>\n",
       "      <td>1.000000</td>\n",
       "      <td>0.195721</td>\n",
       "    </tr>\n",
       "    <tr>\n",
       "      <th>mb_used</th>\n",
       "      <td>0.286442</td>\n",
       "      <td>0.280967</td>\n",
       "      <td>0.195721</td>\n",
       "      <td>1.000000</td>\n",
       "    </tr>\n",
       "  </tbody>\n",
       "</table>\n",
       "</div>"
      ],
      "text/plain": [
       "             calls   minutes  messages   mb_used\n",
       "calls     1.000000  0.982083  0.177385  0.286442\n",
       "minutes   0.982083  1.000000  0.173110  0.280967\n",
       "messages  0.177385  0.173110  1.000000  0.195721\n",
       "mb_used   0.286442  0.280967  0.195721  1.000000"
      ]
     },
     "execution_count": 118,
     "metadata": {},
     "output_type": "execute_result"
    }
   ],
   "source": [
    "# проверка признаков на коллинеарность\n",
    "X.corr()"
   ]
  },
  {
   "cell_type": "markdown",
   "metadata": {},
   "source": [
    "Признак количество звонков сильно коллерирует с продолжительностью разговоров. Для постоения модели логистической регрессии исключим признак количество звонков из выборки."
   ]
  },
  {
   "cell_type": "code",
   "execution_count": 119,
   "metadata": {},
   "outputs": [
    {
     "name": "stdout",
     "output_type": "stream",
     "text": [
      "Mодель: LogisticRegression(random_state=42)\n",
      "Accuracy: 0.7398879900435594\n"
     ]
    }
   ],
   "source": [
    "# инициализация модели\n",
    "log_reg_model = LogisticRegression(random_state=42)\n",
    "\n",
    "# обучение модели на обучающей выборке\n",
    "log_reg_model.fit(X_train.drop(['calls'], axis=1), y_train)\n",
    "\n",
    "# предсказание целевой переменной по признакам валидационной выборки\n",
    "log_reg_model_predictions = log_reg_model.predict(X_valid.drop(['calls'], axis=1))\n",
    "\n",
    "# оценка качества модели показателем метрики - доля правильный предсказаний\n",
    "print('Mодель:', log_reg_model)\n",
    "print('Accuracy:', accuracy_score(y_valid, log_reg_model_predictions))"
   ]
  },
  {
   "cell_type": "markdown",
   "metadata": {},
   "source": [
    "Таким образом, доля верных предстказаний модели логистической регресии - 0,7398.\n",
    "\n",
    "### Деревья классификации"
   ]
  },
  {
   "cell_type": "code",
   "execution_count": 120,
   "metadata": {},
   "outputs": [
    {
     "name": "stdout",
     "output_type": "stream",
     "text": [
      "Лучшая модель: DecisionTreeClassifier(max_depth=5, random_state=42)\n",
      "Accuracy: 0.7958929682638457\n"
     ]
    }
   ],
   "source": [
    "# подбор гиперпараметра - количество слоев дерева в диапазоне от 1 до 5 слоев \n",
    "# по показателю метрики - доля верных предстказаний\n",
    "best_model = None\n",
    "best_result = 0.6990                                                          # accuracy логистической регрессии\n",
    "best_depth = 0\n",
    "for depth in range(1, 6):\n",
    "    des_tree_model = DecisionTreeClassifier(max_depth=depth, random_state=42) # инициализация модели\n",
    "    \n",
    "    des_tree_model.fit(X_train, y_train)                                      # обучение модели на обучающей выборке\n",
    "    \n",
    "    des_tree_model_predictions = des_tree_model.predict(X_valid)              # предсказание целевой переменной \n",
    "                                                                              # по признакам валидационной выборки\n",
    "    \n",
    "    result = accuracy_score(y_valid, des_tree_model_predictions)              # расчет метрики accuracy\n",
    "    if result > best_result:                                                  # определение гиперпараметров\n",
    "        best_model = des_tree_model                                           # лучшей модели\n",
    "        best_result = result\n",
    "        best_depth = depth\n",
    "            \n",
    "print('Лучшая модель:', best_model)\n",
    "print('Accuracy:', best_result) "
   ]
  },
  {
   "cell_type": "markdown",
   "metadata": {},
   "source": [
    "Таким образом, доля верных предсказаний, равная 0,7958 модели дерево решений, достигается при глубине слоев дерева равное 5.\n",
    "\n",
    "### Случайный лес"
   ]
  },
  {
   "cell_type": "code",
   "execution_count": 121,
   "metadata": {},
   "outputs": [
    {
     "name": "stdout",
     "output_type": "stream",
     "text": [
      "Лучшая модель: RandomForestClassifier(max_depth=9, n_estimators=30, random_state=42)\n",
      "Accuracy: 0.8238954573739888\n"
     ]
    }
   ],
   "source": [
    "# подбор гиперпараметров количество лесов (от 10 до 50 с шагом в 10),\n",
    "# количество слоев в дереве решений\n",
    "# по значени метрики качества модели - доля вернопредсказаных ответов\n",
    "best_model = None\n",
    "best_result = 0.7972                                                         # accuracy модели дерева решений\n",
    "best_est = 0\n",
    "best_depth = 0\n",
    "for est in range(10, 51, 10):                                                # инициализация модели\n",
    "    for depth in range (1, 11):                                              # подбор гиперпараметров\n",
    "        rand_forest_model = RandomForestClassifier(random_state=42,\n",
    "                                                   n_estimators=est,\n",
    "                                                   max_depth=depth)\n",
    "        rand_forest_model.fit(X_train, y_train)                              # обучение модели по обучающей выборке\n",
    "        rand_forest_model_predictions = rand_forest_model.predict(X_valid)   # предсказание результата по выборке валидации\n",
    "        result = accuracy_score(y_valid, rand_forest_model_predictions)      # расчет метрики accuracy\n",
    "        if result > best_result:                                             # определение гиперпараметров\n",
    "            best_model = rand_forest_model                                   # лучшей модели\n",
    "            best_result = result\n",
    "            best_est = est\n",
    "            best_depth = depth\n",
    "            \n",
    "print('Лучшая модель:', best_model)\n",
    "print('Accuracy:', best_result)"
   ]
  },
  {
   "cell_type": "markdown",
   "metadata": {},
   "source": [
    "Таким образом, доля верных предсказаний, равная 0,8238 модели бэггинга деревьев решений, достигается при глубине слоев деревье равное 9 и количестве деревьев равное 30."
   ]
  },
  {
   "cell_type": "markdown",
   "metadata": {},
   "source": [
    "## Проверка на тестовой выборке"
   ]
  },
  {
   "cell_type": "code",
   "execution_count": 122,
   "metadata": {},
   "outputs": [
    {
     "name": "stdout",
     "output_type": "stream",
     "text": [
      "Accuracy: 0.8780336029869322\n"
     ]
    }
   ],
   "source": [
    "# расчет метрики accuracy на тестовой выборке\n",
    "print('Accuracy:', accuracy_score(y_test, best_model.predict(X_test)))"
   ]
  },
  {
   "cell_type": "markdown",
   "metadata": {},
   "source": [
    "Таким образом, доля верных предсказаний модели случайного леса с количеством деревьев равным 30 и количеством слоев в дереве решений равное 9, равна 0,8780, что превышает заявленное на исследование минимальное значение равное 0,7500."
   ]
  },
  {
   "cell_type": "markdown",
   "metadata": {},
   "source": [
    "## Проверка модели на адекватность\n",
    "\n",
    "Для проверки обученных моделей на адекватность, сравним полученные значения метрик accuracy моделей с baseline, которым будет выступать среднее значение (\"доля тарифов\") рассчитанная по группам по имеющимся данным."
   ]
  },
  {
   "cell_type": "code",
   "execution_count": 123,
   "metadata": {},
   "outputs": [
    {
     "name": "stdout",
     "output_type": "stream",
     "text": [
      "Модель \"человеческого обучения\"\n",
      "Accuracy: 0.6876166770379589\n"
     ]
    }
   ],
   "source": [
    "# выделение пяти групп по имеющимся признакам\n",
    "df['calls_group'] = pd.qcut(df['calls'], 5)\n",
    "df['minutes_group'] = pd.qcut(df['minutes'], 5)\n",
    "df['messages_group'] = pd.qcut(df['messages'], 5)\n",
    "df['mb_used_group'] = pd.qcut(df['mb_used'], 5)\n",
    "\n",
    "# получение скора модели, как доли тарифов по группам признаков\n",
    "avg_model = (\n",
    "    df.groupby(['calls_group', 'minutes_group', 'messages_group', 'mb_used_group'])\n",
    "    ['is_ultra'].mean()\n",
    "    .reset_index()\n",
    ")\n",
    "# обогащение скором данным\n",
    "df['score'] = avg_model['is_ultra']\n",
    "\n",
    "# объем выборки небольшой, некоторый скор не рассчитался, \n",
    "# так как достигнута уникальность сочетания четырех признаков,\n",
    "# для которых в выборке нет информаци о применяемом тарифе \n",
    "# для полученых таким образом возможных клиентов\n",
    "df['score'] = df['score'].fillna(df['score'].mean())\n",
    "\n",
    "# определение целевой перемнной по значению скора\n",
    "df.loc[df['score'] > 0.5, 'avg_model_prediction'] = 1\n",
    "df.loc[df['score'] <= 0.5, 'avg_model_prediction'] = 0\n",
    "\n",
    "# расчет показателя доли верно предсказанных тарифов\n",
    "print('Модель \"человеческого обучения\"')\n",
    "print('Accuracy:', accuracy_score(df['is_ultra'], df['avg_model_prediction']))"
   ]
  },
  {
   "cell_type": "markdown",
   "metadata": {},
   "source": [
    "Таким образом, предсказания модели, полученой путем группировки признаков, имеют долю верных предстказаний 0,6876, что значительно ниже всех изученных в ходе эксперимента моделей."
   ]
  },
  {
   "cell_type": "markdown",
   "metadata": {},
   "source": [
    "## Выводы\n",
    "\n",
    "На исследование была предсталена выборка клиентов мобильного оператора, имеющая четыре признака и одну целевую перемнную - тарифный план. Требовалось построить модели распознания клиента.\n",
    "\n",
    "В ходе эксперимента были построены модели логистической регрессии, дерева решений и случайного леса. Метрикой успеха эксперимента была определена accuracy - доля верный предсказаний модели.\n",
    "\n",
    "Личший результат - 0,8238 продемонсрировала модель случайного леса с количеством лесов - 30 и количеством слоев деревьев - 9. Посредсвенный результат оказался у логистической регресии - 0,7398.\n",
    "\n",
    "Адекватность эксперементальных моделей проверялась автором исследования путем сравнения с моделью, полученной полученой путем группировки признаков, которая имеюе долю верных предсказаний 0,6876.\n",
    "\n",
    "Таким образом, по показателю accuracy лучшей моделью для предсказания тарифного плана клиента по имеющимся данным стоит признать RandomForestClassifier(max_depth=9, n_estimators=30).\n",
    "\n",
    "Модель на тестовой выборке показала результат метрики accuracy равный 0.8780. Метрика превысила уровень в 0,7500 - заявленный стейкхолдером. Эксперимет стоит признать успешным."
   ]
  }
 ],
 "metadata": {
  "ExecuteTimeLog": [
   {
    "duration": 375,
    "start_time": "2022-04-12T09:16:20.755Z"
   },
   {
    "duration": 35,
    "start_time": "2022-04-12T09:16:36.486Z"
   },
   {
    "duration": 24,
    "start_time": "2022-04-12T09:16:50.484Z"
   },
   {
    "duration": 23,
    "start_time": "2022-04-12T09:17:08.962Z"
   },
   {
    "duration": 4,
    "start_time": "2022-04-12T09:17:18.293Z"
   },
   {
    "duration": 70,
    "start_time": "2022-04-12T09:17:44.243Z"
   },
   {
    "duration": 5,
    "start_time": "2022-04-12T09:17:47.887Z"
   },
   {
    "duration": 9,
    "start_time": "2022-04-12T09:18:10.451Z"
   },
   {
    "duration": 11,
    "start_time": "2022-04-12T09:18:22.790Z"
   },
   {
    "duration": 13,
    "start_time": "2022-04-12T09:24:19.443Z"
   },
   {
    "duration": 763,
    "start_time": "2022-04-12T09:28:27.121Z"
   },
   {
    "duration": 8,
    "start_time": "2022-04-12T09:33:22.988Z"
   },
   {
    "duration": 42,
    "start_time": "2022-04-12T09:37:22.016Z"
   },
   {
    "duration": 1024,
    "start_time": "2022-04-12T09:42:59.402Z"
   },
   {
    "duration": 1001,
    "start_time": "2022-04-12T10:02:31.304Z"
   },
   {
    "duration": 51,
    "start_time": "2022-04-12T10:15:09.573Z"
   },
   {
    "duration": 17,
    "start_time": "2022-04-12T10:15:27.520Z"
   },
   {
    "duration": 34,
    "start_time": "2022-04-12T10:16:03.513Z"
   },
   {
    "duration": 4237,
    "start_time": "2022-04-12T10:25:01.649Z"
   },
   {
    "duration": 4184,
    "start_time": "2022-04-12T10:27:04.553Z"
   },
   {
    "duration": 178,
    "start_time": "2022-04-12T10:29:20.125Z"
   },
   {
    "duration": 31,
    "start_time": "2022-04-12T10:29:41.349Z"
   },
   {
    "duration": 1086,
    "start_time": "2022-04-12T10:47:36.621Z"
   },
   {
    "duration": 163,
    "start_time": "2022-04-12T10:49:31.500Z"
   },
   {
    "duration": 185,
    "start_time": "2022-04-12T10:49:43.350Z"
   },
   {
    "duration": 10,
    "start_time": "2022-04-12T10:50:07.396Z"
   },
   {
    "duration": 7,
    "start_time": "2022-04-12T10:50:28.782Z"
   },
   {
    "duration": 11,
    "start_time": "2022-04-12T10:55:07.556Z"
   },
   {
    "duration": 651,
    "start_time": "2022-04-12T10:55:19.332Z"
   },
   {
    "duration": 15,
    "start_time": "2022-04-12T10:55:52.682Z"
   },
   {
    "duration": 11,
    "start_time": "2022-04-12T10:55:58.922Z"
   },
   {
    "duration": 165,
    "start_time": "2022-04-12T10:56:22.225Z"
   },
   {
    "duration": 129,
    "start_time": "2022-04-12T10:56:50.089Z"
   },
   {
    "duration": 18,
    "start_time": "2022-04-12T10:58:02.658Z"
   },
   {
    "duration": 11,
    "start_time": "2022-04-12T10:58:33.825Z"
   },
   {
    "duration": 19,
    "start_time": "2022-04-12T10:58:39.049Z"
   },
   {
    "duration": 12,
    "start_time": "2022-04-12T10:59:19.892Z"
   },
   {
    "duration": 95,
    "start_time": "2022-04-12T10:59:20.128Z"
   },
   {
    "duration": 12,
    "start_time": "2022-04-12T11:00:19.753Z"
   },
   {
    "duration": 33,
    "start_time": "2022-04-12T11:00:19.976Z"
   },
   {
    "duration": 3,
    "start_time": "2022-04-12T11:00:44.225Z"
   },
   {
    "duration": 34,
    "start_time": "2022-04-12T11:00:44.710Z"
   },
   {
    "duration": 4,
    "start_time": "2022-04-12T11:00:45.262Z"
   },
   {
    "duration": 7,
    "start_time": "2022-04-12T11:00:45.875Z"
   },
   {
    "duration": 17,
    "start_time": "2022-04-12T11:00:46.440Z"
   },
   {
    "duration": 10,
    "start_time": "2022-04-12T11:00:47.260Z"
   },
   {
    "duration": 1622,
    "start_time": "2022-04-12T11:00:47.781Z"
   },
   {
    "duration": 126,
    "start_time": "2022-04-12T11:00:49.405Z"
   },
   {
    "duration": 5502,
    "start_time": "2022-04-12T11:00:49.533Z"
   },
   {
    "duration": 11,
    "start_time": "2022-04-12T11:00:55.039Z"
   },
   {
    "duration": 30,
    "start_time": "2022-04-12T11:00:55.051Z"
   },
   {
    "duration": 17,
    "start_time": "2022-04-12T11:01:35.183Z"
   },
   {
    "duration": 26,
    "start_time": "2022-04-12T11:01:37.344Z"
   },
   {
    "duration": 863,
    "start_time": "2022-04-12T11:03:04.240Z"
   },
   {
    "duration": 58,
    "start_time": "2022-04-12T11:03:31.713Z"
   },
   {
    "duration": 43,
    "start_time": "2022-04-12T11:03:58.126Z"
   },
   {
    "duration": 789,
    "start_time": "2022-04-12T11:04:14.968Z"
   },
   {
    "duration": 42,
    "start_time": "2022-04-12T11:04:16.172Z"
   },
   {
    "duration": 3001,
    "start_time": "2022-04-12T11:04:56.925Z"
   },
   {
    "duration": 0,
    "start_time": "2022-04-12T11:04:59.930Z"
   },
   {
    "duration": 3333,
    "start_time": "2022-04-12T11:05:11.974Z"
   },
   {
    "duration": 74,
    "start_time": "2022-04-12T11:05:24.980Z"
   },
   {
    "duration": 72,
    "start_time": "2022-04-12T11:06:50.147Z"
   },
   {
    "duration": 4,
    "start_time": "2022-04-12T11:07:24.335Z"
   },
   {
    "duration": 31,
    "start_time": "2022-04-12T11:07:28.726Z"
   },
   {
    "duration": 29,
    "start_time": "2022-04-12T11:08:50.855Z"
   },
   {
    "duration": 36,
    "start_time": "2022-04-12T11:09:45.995Z"
   },
   {
    "duration": 9,
    "start_time": "2022-04-12T11:10:49.682Z"
   },
   {
    "duration": 55,
    "start_time": "2022-04-12T11:11:20.260Z"
   },
   {
    "duration": 63,
    "start_time": "2022-04-12T11:19:46.301Z"
   },
   {
    "duration": 12,
    "start_time": "2022-04-12T11:41:23.869Z"
   },
   {
    "duration": 26,
    "start_time": "2022-04-12T11:41:29.568Z"
   },
   {
    "duration": 3,
    "start_time": "2022-04-12T11:41:51.433Z"
   },
   {
    "duration": 24,
    "start_time": "2022-04-12T11:41:51.439Z"
   },
   {
    "duration": 3,
    "start_time": "2022-04-12T11:41:51.465Z"
   },
   {
    "duration": 9,
    "start_time": "2022-04-12T11:41:51.470Z"
   },
   {
    "duration": 11,
    "start_time": "2022-04-12T11:41:51.481Z"
   },
   {
    "duration": 12,
    "start_time": "2022-04-12T11:41:51.494Z"
   },
   {
    "duration": 39,
    "start_time": "2022-04-12T11:41:51.508Z"
   },
   {
    "duration": 29,
    "start_time": "2022-04-12T11:41:51.549Z"
   },
   {
    "duration": 4036,
    "start_time": "2022-04-12T11:41:51.581Z"
   },
   {
    "duration": 53,
    "start_time": "2022-04-12T11:41:55.619Z"
   },
   {
    "duration": 15,
    "start_time": "2022-04-12T11:48:42.931Z"
   },
   {
    "duration": 178,
    "start_time": "2022-04-12T11:49:02.427Z"
   },
   {
    "duration": 13,
    "start_time": "2022-04-12T11:49:05.250Z"
   },
   {
    "duration": 14,
    "start_time": "2022-04-12T11:49:37.660Z"
   },
   {
    "duration": 4,
    "start_time": "2022-04-12T11:55:22.446Z"
   },
   {
    "duration": 26,
    "start_time": "2022-04-12T11:55:22.452Z"
   },
   {
    "duration": 3,
    "start_time": "2022-04-12T11:55:22.480Z"
   },
   {
    "duration": 7,
    "start_time": "2022-04-12T11:55:22.485Z"
   },
   {
    "duration": 17,
    "start_time": "2022-04-12T11:55:22.493Z"
   },
   {
    "duration": 12,
    "start_time": "2022-04-12T11:55:22.512Z"
   },
   {
    "duration": 14,
    "start_time": "2022-04-12T11:55:22.526Z"
   },
   {
    "duration": 27,
    "start_time": "2022-04-12T11:55:22.541Z"
   },
   {
    "duration": 3552,
    "start_time": "2022-04-12T11:55:22.571Z"
   },
   {
    "duration": 12,
    "start_time": "2022-04-12T11:55:26.124Z"
   },
   {
    "duration": 47,
    "start_time": "2022-04-12T11:55:26.137Z"
   },
   {
    "duration": 9,
    "start_time": "2022-04-12T12:02:35.830Z"
   },
   {
    "duration": 23,
    "start_time": "2022-04-12T12:05:39.721Z"
   },
   {
    "duration": 7,
    "start_time": "2022-04-12T12:07:03.500Z"
   },
   {
    "duration": 660,
    "start_time": "2022-04-12T12:07:03.510Z"
   },
   {
    "duration": 4,
    "start_time": "2022-04-12T12:07:04.172Z"
   },
   {
    "duration": 9,
    "start_time": "2022-04-12T12:07:04.178Z"
   },
   {
    "duration": 18,
    "start_time": "2022-04-12T12:07:04.189Z"
   },
   {
    "duration": 10,
    "start_time": "2022-04-12T12:07:04.209Z"
   },
   {
    "duration": 51,
    "start_time": "2022-04-12T12:07:04.220Z"
   },
   {
    "duration": 24,
    "start_time": "2022-04-12T12:07:04.273Z"
   },
   {
    "duration": 30,
    "start_time": "2022-04-12T12:07:04.299Z"
   },
   {
    "duration": 3787,
    "start_time": "2022-04-12T12:07:04.331Z"
   },
   {
    "duration": 12,
    "start_time": "2022-04-12T12:07:08.120Z"
   },
   {
    "duration": 49,
    "start_time": "2022-04-12T12:07:08.134Z"
   },
   {
    "duration": 889,
    "start_time": "2022-04-12T12:39:10.612Z"
   },
   {
    "duration": 4,
    "start_time": "2022-04-12T12:48:06.122Z"
   },
   {
    "duration": 63,
    "start_time": "2022-04-12T12:48:06.128Z"
   },
   {
    "duration": 3,
    "start_time": "2022-04-12T12:48:06.193Z"
   },
   {
    "duration": 13,
    "start_time": "2022-04-12T12:48:06.198Z"
   },
   {
    "duration": 32,
    "start_time": "2022-04-12T12:48:06.212Z"
   },
   {
    "duration": 18,
    "start_time": "2022-04-12T12:48:06.246Z"
   },
   {
    "duration": 18,
    "start_time": "2022-04-12T12:48:06.266Z"
   },
   {
    "duration": 43,
    "start_time": "2022-04-12T12:48:06.285Z"
   },
   {
    "duration": 28,
    "start_time": "2022-04-12T12:48:06.330Z"
   },
   {
    "duration": 3446,
    "start_time": "2022-04-12T12:48:06.359Z"
   },
   {
    "duration": 11,
    "start_time": "2022-04-12T12:48:09.807Z"
   },
   {
    "duration": 49,
    "start_time": "2022-04-12T12:48:09.819Z"
   }
  ],
  "kernelspec": {
   "display_name": "Python 3 (ipykernel)",
   "language": "python",
   "name": "python3"
  },
  "language_info": {
   "codemirror_mode": {
    "name": "ipython",
    "version": 3
   },
   "file_extension": ".py",
   "mimetype": "text/x-python",
   "name": "python",
   "nbconvert_exporter": "python",
   "pygments_lexer": "ipython3",
   "version": "3.9.5"
  },
  "toc": {
   "base_numbering": 1,
   "nav_menu": {},
   "number_sections": true,
   "sideBar": true,
   "skip_h1_title": true,
   "title_cell": "Table of Contents",
   "title_sidebar": "Contents",
   "toc_cell": false,
   "toc_position": {},
   "toc_section_display": true,
   "toc_window_display": false
  }
 },
 "nbformat": 4,
 "nbformat_minor": 2
}
